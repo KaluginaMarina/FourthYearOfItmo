{
 "cells": [
  {
   "cell_type": "markdown",
   "metadata": {},
   "source": [
    "# Лабораторная работа № 2\n",
    "\n",
    "# Блочное симметричное шифрование\n",
    "\n",
    "## Вариант\n",
    "\n",
    "3(в)\n",
    "\n",
    "## Задание \n",
    "\n",
    "Реализовать систему симметричного блочного шифрования,\n",
    "позволяющую шифровать и дешифровать файл на диске с использованием\n",
    "блочного шифра RC6 в режиме шифрования PCBC. "
   ]
  },
  {
   "cell_type": "markdown",
   "metadata": {},
   "source": [
    "# Константы\n",
    "\n",
    "$ w $ - размер слова в битах. Блоки открытого текста и шифротекста имеют длину $ 4w $ - бит (т.к. 4 регистра).\n",
    "\n",
    "$ r $ - количество раундов. Так же размер расширенного массива ключей $ S $ будет иметь $ t=(2r+4) $ слово. Допустимые значения $ 0\\leq r\\leq 255 $. \n",
    "\n",
    "$ b $ - количество бит в секретном ключе $ K $.\n",
    "\n",
    "$ K $ - секретный ключ размеров $ b $ байт: $K[0], K[1], ... , K[b-1] $."
   ]
  },
  {
   "cell_type": "code",
   "execution_count": null,
   "metadata": {},
   "outputs": [],
   "source": [
    "w "
   ]
  }
 ],
 "metadata": {
  "kernelspec": {
   "display_name": "Python 3",
   "language": "python",
   "name": "python3"
  },
  "language_info": {
   "codemirror_mode": {
    "name": "ipython",
    "version": 3
   },
   "file_extension": ".py",
   "mimetype": "text/x-python",
   "name": "python",
   "nbconvert_exporter": "python",
   "pygments_lexer": "ipython3",
   "version": "3.8.2"
  }
 },
 "nbformat": 4,
 "nbformat_minor": 4
}
