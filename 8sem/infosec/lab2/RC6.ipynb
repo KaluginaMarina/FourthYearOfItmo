{
 "cells": [
  {
   "cell_type": "markdown",
   "metadata": {},
   "source": [
    "# Лабораторная работа № 2\n",
    "\n",
    "# Блочное симметричное шифрование\n",
    "\n",
    "## Вариант\n",
    "\n",
    "3(в)\n",
    "\n",
    "## Задание \n",
    "\n",
    "Реализовать систему симметричного блочного шифрования,\n",
    "позволяющую шифровать и дешифровать файл на диске с использованием\n",
    "блочного шифра RC6 в режиме шифрования PCBC. "
   ]
  },
  {
   "cell_type": "markdown",
   "metadata": {},
   "source": [
    "# Константы\n",
    "\n",
    "$ w $ - размер слова в битах. Блоки открытого текста и шифротекста имеют длину $ 4w $ - бит (т.к. 4 регистра).\n",
    "\n",
    "$ r $ - количество раундов. Так же размер расширенного массива ключей $ S $ будет иметь $ t=(2r+4) $ слово. Допустимые значения $ 0\\leq r\\leq 255 $. \n",
    "\n",
    "$ b $ - количество бит в секретном ключе $ K $.\n",
    "\n",
    "$ K $ - секретный ключ размеров $ b $ бит: $K[0], K[1], ... , K[b-1] $."
   ]
  },
  {
   "cell_type": "code",
   "execution_count": 59,
   "metadata": {},
   "outputs": [],
   "source": [
    "import math\n",
    "\n",
    "w = 32\n",
    "r = 2\n",
    "b = 8\n",
    "K = [0, 1, 0, 1, 0, 1, 0, 1]\n",
    "\n",
    "# количество байт в слове\n",
    "u = w/8"
   ]
  },
  {
   "cell_type": "markdown",
   "metadata": {},
   "source": [
    "# Подготовка ключа\n",
    "\n",
    "генерация констант\n",
    "\n",
    "Для конкретного w мы определяем две величины:\n",
    "\n",
    "$$ P_w \\leftarrow Odd((e-2)2^w)\\\\Q_w \\leftarrow Odd((\\phi-1)2^w) $$\n",
    "\n",
    "где $ e=2.71828... $(экспонента), $ \\phi=1.61803... $ (золотое сечение). \n",
    "\n",
    "$ Odd(\\cdot) $ - операция округления до ближайшего нечетного целого."
   ]
  },
  {
   "cell_type": "code",
   "execution_count": 28,
   "metadata": {},
   "outputs": [
    {
     "name": "stdout",
     "output_type": "stream",
     "text": [
      "P_w = 0b10110111111000010101000101100011\n",
      "Q_w = 0b10011110001101110111100110111001\n"
     ]
    }
   ],
   "source": [
    "# операция округления до ближайшего нечетного целого\n",
    "def odd(x):\n",
    "    if x - math.trunc(x) == 0:\n",
    "        return x + 1\n",
    "    return math.ceil(x) if math.ceil(x) % 2 == 1 else math.floor(x)\n",
    "\n",
    "# константа золотого сечения\n",
    "phi = (1 + 5 ** 0.5) / 2\n",
    "\n",
    "# генерация констант\n",
    "p_w = bin( odd( (math.e - 2) * math.pow(2, w) ) )\n",
    "q_w = bin( odd( (phi - 1) * math.pow(2, w) ) )\n",
    "\n",
    "print(f'P_w = {p_w}\\nQ_w = {q_w}')"
   ]
  },
  {
   "cell_type": "markdown",
   "metadata": {},
   "source": [
    "# Конвертация секретного ключа\n",
    "\n",
    "На первом этапе нужно скопировать секретный ключ из массива $ K[0...b-1] $ в массив $ L[0...c-1] $, который состоит из $c=b/u$ слов, где $u=w/8$-количество байт в слове. Если   $b$ не кратен $w / 8$, то $L$дополняется нулевыми битами до ближайшего большего кратного:"
   ]
  },
  {
   "cell_type": "code",
   "execution_count": 63,
   "metadata": {},
   "outputs": [
    {
     "name": "stdout",
     "output_type": "stream",
     "text": [
      "Конвертация секретного ключа: [[0, 1, 0, 1], [0, 1, 0, 1]]\n"
     ]
    }
   ],
   "source": [
    "c = math.ceil(max(b, 1) / u)\n",
    "\n",
    "L = [[]]\n",
    "for i in range(0, c):\n",
    "    L[i] = []\n",
    "    for j in range(0, math.trunc(b/c)):\n",
    "        L[i].append(K[math.trunc(i * u + j)] if i * u + j < b else 0)\n",
    "    if i == c - 1:\n",
    "        break\n",
    "    L.append([])\n",
    "print(f'Конвертация секретного ключа: {L}')"
   ]
  },
  {
   "cell_type": "code",
   "execution_count": null,
   "metadata": {},
   "outputs": [],
   "source": []
  }
 ],
 "metadata": {
  "kernelspec": {
   "display_name": "Python 3",
   "language": "python",
   "name": "python3"
  },
  "language_info": {
   "codemirror_mode": {
    "name": "ipython",
    "version": 3
   },
   "file_extension": ".py",
   "mimetype": "text/x-python",
   "name": "python",
   "nbconvert_exporter": "python",
   "pygments_lexer": "ipython3",
   "version": "3.8.2"
  }
 },
 "nbformat": 4,
 "nbformat_minor": 4
}
