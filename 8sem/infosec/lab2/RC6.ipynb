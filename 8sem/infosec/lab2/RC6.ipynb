{
 "cells": [
  {
   "cell_type": "markdown",
   "metadata": {},
   "source": [
    "# Лабораторная работа № 2\n",
    "\n",
    "# Блочное симметричное шифрование\n",
    "\n",
    "## Вариант\n",
    "\n",
    "3(в)\n",
    "\n",
    "## Задание \n",
    "\n",
    "Реализовать систему симметричного блочного шифрования,\n",
    "позволяющую шифровать и дешифровать файл на диске с использованием\n",
    "блочного шифра RC6 в режиме шифрования PCBC. "
   ]
  },
  {
   "cell_type": "markdown",
   "metadata": {},
   "source": [
    "# Константы\n",
    "\n",
    "$ w $ - размер слова в битах. Блоки открытого текста и шифротекста имеют длину $ 4w $ - бит (т.к. 4 регистра).\n",
    "\n",
    "$ r $ - количество раундов. Так же размер расширенного массива ключей $ S $ будет иметь $ t=(2r+4) $ слово. Допустимые значения $ 0\\leq r\\leq 255 $. \n",
    "\n",
    "$ b $ - количество байт в секретном ключе $ K $.\n",
    "\n",
    "$ K $ - секретный ключ размеров $ b $ байт: $K[0], K[1], ... , K[b-1] $."
   ]
  },
  {
   "cell_type": "code",
   "execution_count": 14,
   "metadata": {},
   "outputs": [],
   "source": [
    "import math\n",
    "\n",
    "# Входные данные\n",
    "w = 32\n",
    "r = 2\n",
    "b = 8\n",
    "K = [0b01010101, 0b10101010, 0b01010101, 0b10101010, 0b11111111, 0b00000000, 0b11110000, 0b00001111]\n",
    "\n",
    "\n",
    "# Неизменяемые параметры\n",
    "# количество байт в слове\n",
    "u = w/8\n",
    "# Размер расширинного размера ключей\n",
    "t = 2 * r + 4"
   ]
  },
  {
   "cell_type": "code",
   "execution_count": 51,
   "metadata": {},
   "outputs": [],
   "source": [
    "# Реализация циклических сдвигов вправо/влево\n",
    "\n",
    "# rotate right input x, by n bits\n",
    "def ROR(x, n, bits = 32):\n",
    "    mask = (2**n) - 1\n",
    "    mask_bits = x & mask\n",
    "    return (x >> n) | (mask_bits << (bits - n))\n",
    "\n",
    "#rotate left input x, by n bits\n",
    "def ROL(x, n, bits = 32):\n",
    "    return ROR(x, bits - n,bits)"
   ]
  },
  {
   "cell_type": "markdown",
   "metadata": {},
   "source": [
    "# Подготовка ключа\n",
    "\n",
    "генерация констант\n",
    "\n",
    "Для конкретного w мы определяем две величины:\n",
    "\n",
    "$$ P_w \\leftarrow Odd((e-2)2^w)\\\\Q_w \\leftarrow Odd((\\phi-1)2^w) $$\n",
    "\n",
    "где $ e=2.71828... $(экспонента), $ \\phi=1.61803... $ (золотое сечение). \n",
    "\n",
    "$ Odd(\\cdot) $ - операция округления до ближайшего нечетного целого."
   ]
  },
  {
   "cell_type": "code",
   "execution_count": 37,
   "metadata": {},
   "outputs": [
    {
     "name": "stdout",
     "output_type": "stream",
     "text": [
      "P_w = 0b10110111111000010101000101100011\n",
      "Q_w = 0b10011110001101110111100110111001\n"
     ]
    }
   ],
   "source": [
    "# операция округления до ближайшего нечетного целого\n",
    "def odd(x):\n",
    "    if x - math.trunc(x) == 0:\n",
    "        return x + 1\n",
    "    return math.ceil(x) if math.ceil(x) % 2 == 1 else math.floor(x)\n",
    "\n",
    "# константа золотого сечения\n",
    "phi = (1 + 5 ** 0.5) / 2\n",
    "\n",
    "# генерация констант\n",
    "p_w = odd( (math.e - 2) * math.pow(2, w) )\n",
    "q_w = odd( (phi - 1) * math.pow(2, w) ) \n",
    "\n",
    "print(f'P_w = {bin(p_w)}\\nQ_w = {bin(q_w)}')"
   ]
  },
  {
   "cell_type": "markdown",
   "metadata": {},
   "source": [
    "# Конвертация секретного ключа\n",
    "\n",
    "На первом этапе нужно скопировать секретный ключ из массива $ K[0...b-1] $ в массив $ L[0...c-1] $, который состоит из $c=b/u$ слов, где $u=w/8$-количество байт в слове. Если   $b$ не кратен $w / 8$, то $L$дополняется нулевыми битами до ближайшего большего кратного:"
   ]
  },
  {
   "cell_type": "code",
   "execution_count": 33,
   "metadata": {},
   "outputs": [
    {
     "name": "stdout",
     "output_type": "stream",
     "text": [
      "c = 2\n",
      "L[0] = 0b1010101101010100101010110101010\n",
      "L[1] = 0b11111111000000001111000000001111\n",
      "Конвертация секретного ключа: [1437226410, 4278251535]\n"
     ]
    }
   ],
   "source": [
    "c = math.ceil(max(b, 1) / u)\n",
    "print(f'c = {c}')\n",
    "\n",
    "L = []\n",
    "for i in range(0, c):\n",
    "    L.append(0)\n",
    "    for j in range(0, math.trunc(b/c)):\n",
    "        L[i] = ROL(L[i], 8) + K[math.trunc(i * u + j)] if i * u + j < b else 0\n",
    "    print(f'L[{i}] = {bin(L[i])}')\n",
    "    if i == c - 1:\n",
    "        break\n",
    "print(f'Конвертация секретного ключа: {L}')"
   ]
  },
  {
   "cell_type": "markdown",
   "metadata": {},
   "source": [
    "# Инициализация массива ключей\n",
    "\n",
    "Массив ключей $S$ так же называют расширенной таблицей ключей. Она заполняется с помощью тех самых магических констант, которые мы определили ранее:"
   ]
  },
  {
   "cell_type": "code",
   "execution_count": 57,
   "metadata": {},
   "outputs": [
    {
     "name": "stdout",
     "output_type": "stream",
     "text": [
      "S[1] = 0b101010110000110001100101100011100\n",
      "S[2] = 0b111110100010100000100010011010101\n",
      "S[3] = 0b1010010010100001111011111010001110\n",
      "S[4] = 0b1100110000101111110011100001000111\n",
      "S[5] = 0b1111001110111101101011001000000000\n",
      "S[6] = 0b10001101101001011100010101110111001\n",
      "S[7] = 0b10100001011011001011010010101110010\n"
     ]
    }
   ],
   "source": [
    "S = []\n",
    "S.append(p_w)\n",
    "\n",
    "for i in range(1, t):\n",
    "    S.append(S[i-1] + q_w)\n",
    "    print(f'S[{i}] = {bin(S[i])}')"
   ]
  },
  {
   "cell_type": "markdown",
   "metadata": {},
   "source": [
    "# Перемешивание\n",
    "\n",
    "Этот шаг состоит в том, чтобы перемешать секретный ключ, который нам дал пользователь. \n",
    "\n",
    "На выходу получаем w-битный массив ключей S[0,...,t]"
   ]
  },
  {
   "cell_type": "code",
   "execution_count": 62,
   "metadata": {},
   "outputs": [
    {
     "name": "stdout",
     "output_type": "stream",
     "text": [
      "Массив ключей S: [3404431282, 1592753802, 1091041212, 1899076460, 2891079180, 285541210, 958610939, 1707317516]\n"
     ]
    }
   ],
   "source": [
    "A = 0\n",
    "B = 0\n",
    "i = 0\n",
    "j = 0\n",
    "\n",
    "v = 3 * max(c, t)\n",
    "\n",
    "for s in range(1, v):\n",
    "    A = ROL(S[i] + A + B, 3)\n",
    "    S[i] = A\n",
    "    B = ROL(L[j] + A + B, (A + B) % 32)\n",
    "    L[j] = B\n",
    "    i = (i + 1) % t\n",
    "    j = (j + 1) % c\n",
    "    \n",
    "print(f'Массив ключей S: {S}')"
   ]
  }
 ],
 "metadata": {
  "kernelspec": {
   "display_name": "Python 3",
   "language": "python",
   "name": "python3"
  },
  "language_info": {
   "codemirror_mode": {
    "name": "ipython",
    "version": 3
   },
   "file_extension": ".py",
   "mimetype": "text/x-python",
   "name": "python",
   "nbconvert_exporter": "python",
   "pygments_lexer": "ipython3",
   "version": "3.8.2"
  }
 },
 "nbformat": 4,
 "nbformat_minor": 4
}
