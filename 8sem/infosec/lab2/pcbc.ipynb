{
 "cells": [
  {
   "attachments": {
    "pcbc.svg": {
     "image/svg+xml": [
      "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"
     ]
    }
   },
   "cell_type": "markdown",
   "metadata": {},
   "source": [
    "# Режим шифрования Propagating Cipher Block Chaining (РСВС)\n",
    "\n",
    "Недостатки режима CBC привели к созданию усовершенстванного режима распространяющегося сцепления блоков шифра (Propagating Cipher Block Chaining, РСВС). Естественно, этот режим похож на CBC за исключением того, что предыдущий блок открытого текста и предыдущий блок шифртекста подвергается операции XOR с текущим блоком открытого текста перед шифрованием или после него\n",
    "\n",
    "Шифрование:\n",
    "\n",
    "$$ {\\displaystyle c_{i}=E_{k}\\left(m_{i}\\oplus m_{i-1}\\oplus c_{i-1}\\right)}$$\n",
    "\n",
    "Дешифрование:\n",
    "\n",
    "$${\\displaystyle m_{i}=D_{k}(c_{i})\\oplus c_{i-1}\\oplus m_{i-1}}$$\n",
    "\n",
    "Схема шифрования:\n",
    "\n",
    "![pcbc.svg](attachment:pcbc.svg)"
   ]
  },
  {
   "cell_type": "markdown",
   "metadata": {},
   "source": [
    "### Получение входных данных\n"
   ]
  },
  {
   "cell_type": "code",
   "execution_count": 55,
   "metadata": {},
   "outputs": [
    {
     "name": "stdout",
     "output_type": "stream",
     "text": [
      "Введите ключ:\n",
      "it is a key\n",
      "Введите вектор инициаллизации\n",
      "it is a vector\n",
      "Введите фразу для шифрования:\n",
      "this is a large enough text to test this encryption method and to visually demonstrate the results obtained after encrypting and decrypting the text\n",
      "Блоки для шифрования: ['this is a large ', 'enough text to t', 'est this encrypt', 'ion method and t', 'o visually demon', 'strate the resul', 'ts obtained afte', 'r encrypting and', ' decrypting the ', 'text            ']\n"
     ]
    }
   ],
   "source": [
    "import math\n",
    "\n",
    "print(\"Введите ключ:\")\n",
    "key = input()\n",
    "\n",
    "print(\"Введите вектор инициаллизации\")\n",
    "vector = input()\n",
    "\n",
    "print(\"Введите фразу для шифрования:\")\n",
    "phrase = input()\n",
    "\n",
    "# разбивание фразы на блоки по 16 символов\n",
    "blocks = []\n",
    "for i in range(0, math.ceil(len(phrase)/16)):\n",
    "    blocks.append(phrase[i*16 : (i+1)*16 if (i+1)*16 < len(phrase) else len(phrase)])\n",
    "while (len (blocks[-1]) < 16 ):\n",
    "    blocks[-1] += \" \"\n",
    "    \n",
    "print(f\"Блоки для шифрования: {blocks}\")  \n",
    "\n",
    "# перевод вектора к 16-символьному виду\n",
    "while (len(vector) < 16):\n",
    "    vector += \" \"\n",
    "vector = vector[:16]\n",
    "\n"
   ]
  },
  {
   "cell_type": "markdown",
   "metadata": {},
   "source": [
    "# Шифрование\n",
    "\n",
    "Происходит путем применение xor к открытому тексту и левому блоку (вектору инициаллизации, если блок первый). Каждый следующий блок слева формируется посредством применения xor к открытому тексты и зашифрованному тексту\n",
    "\n",
    "Шифрование:\n",
    "\n",
    "$$ {\\displaystyle c_{i}=E_{k}\\left(m_{i}\\oplus m_{i-1}\\oplus c_{i-1}\\right)}$$\n",
    "\n",
    "Здесь m -- это открытый текст, c -- зашифрованный текст. Причем \n",
    "\n",
    "$ m_{{0}}\\oplus c_{{0}} $ — вектор иницилизации"
   ]
  },
  {
   "cell_type": "code",
   "execution_count": 63,
   "metadata": {},
   "outputs": [
    {
     "name": "stdout",
     "output_type": "stream",
     "text": [
      "Зашифрованный текст:\n",
      "æá\u0002éVy\u000f2'Î\tjHí{a;\u000f\u001d",
      "Ä\u0016Ör=©¡ÒjµUo}\u001b?È",
      "âUblÁ»Â'G»´AHö*ÃM°¼u\u000fV\bX\u000eÅ»ê,ã/£'ï&Íá\u0000S-\u0011\b®¨-¸#dºê°Ú\u0014ùè]j×\u0016Z\u0002\u0007\u001d",
      "Í\u001d",
      "Í|l\u001aq»ûôªEWn÷ÔÿÒÝk!ºÝ\u0001p\u001f­O2ÆøÒßIÅ\n"
     ]
    }
   ],
   "source": [
    "import rc6\n",
    "\n",
    "# xor правого и левого блока\n",
    "def blocks_xor(left, right):\n",
    "    xor = \"\"\n",
    "    for i in range(0, 16):\n",
    "        xor += chr(ord(left[i]) ^ ord(right[i]))\n",
    "    return xor\n",
    "\n",
    "# генерация ключей\n",
    "s = rc6.generateKey(key)\n",
    "\n",
    "left = vector\n",
    "encode_list = []\n",
    "\n",
    "for block in blocks:\n",
    "    # xor левой части и открытого текста\n",
    "    decoded_block = blocks_xor(left, block)\n",
    "    # шифрование\n",
    "    o, c = rc6.encrypt(decoded_block, s)    \n",
    "    encode = rc6.deBlocker(c)\n",
    "    encode_list.append(encode)\n",
    "    # создание вектора слева путем xor'a \n",
    "    # открытого и зашифрованного текста\n",
    "    left = blocks_xor(encode, block)\n",
    "\n",
    "res_encode = \"\"\n",
    "print(\"Зашифрованный текст:\")\n",
    "for e in encode_list:\n",
    "    res_encode += e\n",
    "print(res_encode)"
   ]
  },
  {
   "cell_type": "markdown",
   "metadata": {},
   "source": [
    "# Дешифрование:\n",
    "\n",
    "$${\\displaystyle m_{i}=D_{k}(c_{i})\\oplus c_{i-1}\\oplus m_{i-1}}$$ \n",
    "\n",
    "Здесь m -- это открытый текст, c -- зашифрованный текст. Причем \n",
    "\n",
    "$ m_{{0}}\\oplus c_{{0}} $ — вектор иницилизации"
   ]
  },
  {
   "cell_type": "code",
   "execution_count": 62,
   "metadata": {},
   "outputs": [
    {
     "name": "stdout",
     "output_type": "stream",
     "text": [
      "Дешифрованыый текст:\n",
      "this is a large enough text to test this encryption method and to visually demonstrate the results obtained after encrypting and decrypting the text            \n"
     ]
    }
   ],
   "source": [
    "decode_list = []\n",
    "left = vector\n",
    "for encode in encode_list:\n",
    "    # докодирование текущей\n",
    "    c, o = rc6.decrypt(encode, s)\n",
    "    decode = rc6.deBlocker(o)\n",
    "    # xor левого блока и закодированного сообщения\n",
    "    decoded_decode = blocks_xor(left, decode)\n",
    "    # новый левый блок\n",
    "    left = blocks_xor(decoded_decode, encode)\n",
    "    decode_list.append(decoded_decode)\n",
    "\n",
    "res_decode = \"\"    \n",
    "print(\"Дешифрованыый текст:\")\n",
    "for d in decode_list:\n",
    "    res_decode += d\n",
    "print(res_decode)"
   ]
  },
  {
   "cell_type": "markdown",
   "metadata": {},
   "source": [
    "# Вывод\n",
    "\n",
    "В ходе выполнения лабораторной работы были изучены принципы работы  блочно-симметричных алгоритмов шфрования и был реализован один из таких алгоритмов, а миенно, алгоритм rc6 в режиме шифрования PCBC"
   ]
  }
 ],
 "metadata": {
  "kernelspec": {
   "display_name": "Python 3",
   "language": "python",
   "name": "python3"
  },
  "language_info": {
   "codemirror_mode": {
    "name": "ipython",
    "version": 3
   },
   "file_extension": ".py",
   "mimetype": "text/x-python",
   "name": "python",
   "nbconvert_exporter": "python",
   "pygments_lexer": "ipython3",
   "version": "3.8.2"
  }
 },
 "nbformat": 4,
 "nbformat_minor": 4
}
