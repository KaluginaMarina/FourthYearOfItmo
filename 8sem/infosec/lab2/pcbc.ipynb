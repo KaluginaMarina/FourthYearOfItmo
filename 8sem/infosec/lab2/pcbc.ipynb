{
 "cells": [
  {
   "attachments": {
    "pcbc.svg": {
     "image/svg+xml": [
      "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"
     ]
    }
   },
   "cell_type": "markdown",
   "metadata": {},
   "source": [
    "# Режим шифрования Propagating Cipher Block Chaining (РСВС)\n",
    "\n",
    "Недостатки режима CBC привели к созданию усовершенстванного режима распространяющегося сцепления блоков шифра (Propagating Cipher Block Chaining, РСВС). Естественно, этот режим похож на CBC за исключением того, что предыдущий блок открытого текста и предыдущий блок шифртекста подвергается операции XOR с текущим блоком открытого текста перед шифрованием или после него\n",
    "\n",
    "Шифрование:\n",
    "\n",
    "$$ {\\displaystyle c_{i}=E_{k}\\left(m_{i}\\oplus m_{i-1}\\oplus c_{i-1}\\right)}$$\n",
    "\n",
    "Дешифрование:\n",
    "\n",
    "$${\\displaystyle m_{i}=D_{k}(c_{i})\\oplus c_{i-1}\\oplus m_{i-1}}m_{i}$$\n",
    "\n",
    "Схема шифрования:\n",
    "\n",
    "![pcbc.svg](attachment:pcbc.svg)"
   ]
  },
  {
   "cell_type": "markdown",
   "metadata": {},
   "source": [
    "### Получение входных данных\n"
   ]
  },
  {
   "cell_type": "code",
   "execution_count": 7,
   "metadata": {},
   "outputs": [
    {
     "name": "stdout",
     "output_type": "stream",
     "text": [
      "Введите ключ:\n",
      "it is a keyword\n",
      "Введите вектор инициаллизациии:\n",
      "it is a vector\n",
      "Введите фразу для шифрования:\n",
      "this is a frase for encode\n",
      "Блоки для шифрования: ['this is a frase ', 'for encode      ']\n"
     ]
    }
   ],
   "source": [
    "import math\n",
    "\n",
    "print(\"Введите ключ:\")\n",
    "key = input()\n",
    "\n",
    "print(\"Введите фразу для шифрования:\")\n",
    "phrase = input()\n",
    "\n",
    "# 32-битный вектор для инициаллизации \n",
    "vector = 0b10101010111111110101010100000000\n",
    "\n",
    "# разбивание фразы на блоки по 16 символов\n",
    "blocks = []\n",
    "for i in range(0, math.ceil(len(phrase)/16)):\n",
    "    blocks.append(phrase[i*16 : (i+1)*16 if (i+1)*16 < len(phrase) else len(phrase)])\n",
    "while (len (blocks[-1]) < 16 ):\n",
    "    blocks[-1] += \" \"\n",
    "    \n",
    "print(f\"Блоки для шифрования: {blocks}\")  \n",
    "\n",
    "# перевод вектора инициаллизации в биты\n",
    "while (len(vector) < 16):\n",
    "    vector += \" \"\n",
    "vector = vector[:16]\n",
    "\n"
   ]
  },
  {
   "cell_type": "markdown",
   "metadata": {},
   "source": [
    "# Функции для шифрования и дешифрования\n",
    "\n",
    "Здесь работают как черный ящик, для подробного ознакомления с коммернариями и выводом смотреть файл rc6.ipynb"
   ]
  },
  {
   "cell_type": "code",
   "execution_count": 8,
   "metadata": {},
   "outputs": [
    {
     "name": "stdout",
     "output_type": "stream",
     "text": [
      "¼!Ð¬Á¶\u0011\u0014¡}u ¬¦\n",
      "èKI!,ÉaÃu´h¥{$\u001d",
      "g\n",
      "this is a frase \n",
      "for encode      \n"
     ]
    }
   ],
   "source": [
    "import rc6\n",
    "\n",
    "s = rc6.generateKey(key)\n",
    "\n",
    "encode_list = []\n",
    "for block in blocks:\n",
    "    o, c = rc6.encrypt(block, s)    \n",
    "    encode = rc6.deBlocker(c)\n",
    "    encode_list.append(encode)\n",
    "    print(encode)\n",
    "\n",
    "decode_list = []\n",
    "for encode in encode_list:\n",
    "    c, o = rc6.decrypt(encode, s)\n",
    "    decode = rc6.deBlocker(o)\n",
    "    decode_list.append(decode)\n",
    "    print(decode)\n",
    "     \n"
   ]
  },
  {
   "cell_type": "code",
   "execution_count": null,
   "metadata": {},
   "outputs": [],
   "source": []
  }
 ],
 "metadata": {
  "kernelspec": {
   "display_name": "Python 3",
   "language": "python",
   "name": "python3"
  },
  "language_info": {
   "codemirror_mode": {
    "name": "ipython",
    "version": 3
   },
   "file_extension": ".py",
   "mimetype": "text/x-python",
   "name": "python",
   "nbconvert_exporter": "python",
   "pygments_lexer": "ipython3",
   "version": "3.8.2"
  }
 },
 "nbformat": 4,
 "nbformat_minor": 4
}
